{
 "cells": [
  {
   "cell_type": "markdown",
   "metadata": {},
   "source": [
    "# Welcome to the Audible demonstration.\n",
    "\n",
    "Here I'll show you what this software does.\n",
    "\n",
    "To certify that our library works, we must encode a text (Unicode) message to audio, and decode it back to text! Along with playing the audio, of course."
   ]
  },
  {
   "cell_type": "code",
   "execution_count": null,
   "metadata": {
    "scrolled": true
   },
   "outputs": [
    {
     "name": "stdout",
     "output_type": "stream",
     "text": [
      "Number of result samples: 4512.0\n",
      "Length of our message: 47\n",
      "Predicted modulated message length: 11280.0\n",
      "Message length (estimated from sample length): 47.0\n",
      "Data modulation frequency: 5Hz\n",
      "Sine wave frequency: 650Hz\n",
      "Decoded: 'Illa qui impetunt homines bona mente mala sunt.'\n",
      "Decoded length: 47\n"
     ]
    }
   ],
   "source": [
    "import audible\n",
    "import importlib as imp\n",
    "import pyaudio\n",
    "import struct\n",
    "\n",
    "\n",
    "audible = imp.reload(audible)\n",
    "\n",
    "dfreq = 5\n",
    "wfreq = 650\n",
    "sfreq = 1200\n",
    "bdepth = 2\n",
    "\n",
    "msg = \"Illa qui impetunt homines bona mente mala sunt.\" # Latin :D\n",
    "codec = audible.SineAMCodec('utf-8')\n",
    "audio = codec.encode(msg, byte_depth=bdepth, sample_frequency=sfreq, wave_frequency=wfreq, data_frequency=dfreq)\n",
    "\n",
    "print(\"Number of result samples: \" + str(len(audio) / dfreq))\n",
    "print(\"Length of our message: \" + str(len(msg)))\n",
    "print(\"Predicted modulated message length: \" + str(sfreq / dfreq * len(msg)))\n",
    "print(\"Message length (estimated from sample length): \" + str(len(audio) / bdepth * dfreq / sfreq))\n",
    "print(\"Data modulation frequency: \" + str(dfreq) + \"Hz\")\n",
    "print(\"Sine wave frequency: \" + str(wfreq) + \"Hz\")\n",
    "\n",
    "# instantiate PyAudio \n",
    "p = pyaudio.PyAudio()\n",
    "\n",
    "# open stream\n",
    "stream = p.open(format=pyaudio.get_format_from_width(2, unsigned=False),\n",
    "                channels=1,\n",
    "                rate=2000,\n",
    "                output=True)\n",
    "\n",
    "# decode\n",
    "res = codec.decode(audio, byte_depth=bdepth, sample_frequency=sfreq, wave_frequency=wfreq, data_frequency=dfreq)\n",
    "print(\"Decoded: {}\".format(repr(res)))\n",
    "print(\"Decoded length: {}\".format(len(res)))\n",
    "\n",
    "# write to stream\n",
    "stream.write(audio)"
   ]
  }
 ],
 "metadata": {
  "kernelspec": {
   "display_name": "Python 3",
   "language": "python",
   "name": "python3"
  }
 },
 "nbformat": 4,
 "nbformat_minor": 2
}
