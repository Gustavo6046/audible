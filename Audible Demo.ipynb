{
 "cells": [
  {
   "cell_type": "markdown",
   "metadata": {},
   "source": [
    "# Welcome to the Audible demonstration.\n",
    "\n",
    "Here I'll show you what this software does.\n",
    "\n",
    "To certify that our library works, we must encode a text (Unicode) message to audio, and decode it back to text! Along with playing the audio, of course."
   ]
  },
  {
   "cell_type": "code",
   "execution_count": 80,
   "metadata": {
    "scrolled": true
   },
   "outputs": [
    {
     "name": "stdout",
     "output_type": "stream",
     "text": [
      "Number of result samples: 14100.0\n",
      "Length of our message: 94\n",
      "Predicted modulated message length: 14100.0\n",
      "Message length (estimated from sample length): 94.0\n",
      "Data modulation frequency: 8Hz\n",
      "Sine wave frequency: 650Hz\n",
      "Decoded: 'Illa qui impetunt homines bona mente mala sunt. (Those who attack well-minded people bad are.)'\n",
      "Decoded length: 94\n",
      "Playing 3s audio at 4700 Hz...\n"
     ]
    }
   ],
   "source": [
    "import audible\n",
    "import importlib as imp\n",
    "import pyaudio\n",
    "import struct\n",
    "\n",
    "\n",
    "audible = imp.reload(audible)\n",
    "\n",
    "# configure\n",
    "dfreq = 8\n",
    "wfreq = 650\n",
    "sfreq = 1200\n",
    "bdepth = 2\n",
    "seconds = 8\n",
    "\n",
    "# encode\n",
    "msg = \"Illa qui impetunt homines bona mente mala sunt. (Those who attack well-minded people bad are.)\" # Latin :D\n",
    "codec = audible.SineAMCodec('utf-8')\n",
    "audio = codec.encode(msg, byte_depth=bdepth, sample_frequency=sfreq, wave_frequency=wfreq, data_frequency=dfreq)\n",
    "\n",
    "print(\"Number of result samples: \" + str(len(audio) / bdepth))\n",
    "print(\"Length of our message: \" + str(len(msg)))\n",
    "print(\"Predicted modulated message length: \" + str(sfreq / dfreq * len(msg)))\n",
    "print(\"Message length (estimated from sample length): \" + str(len(audio) / bdepth * dfreq / sfreq))\n",
    "print(\"Data modulation frequency: \" + str(dfreq) + \"Hz\")\n",
    "print(\"Sine wave frequency: \" + str(wfreq) + \"Hz\")\n",
    "\n",
    "# decode\n",
    "res = codec.decode(audio, byte_depth=bdepth, sample_frequency=sfreq, wave_frequency=wfreq, data_frequency=dfreq)\n",
    "\n",
    "print(\"Decoded: {}\".format(repr(res)))\n",
    "print(\"Decoded length: {}\".format(len(res)))\n",
    "\n",
    "# instantiate PyAudio \n",
    "p = pyaudio.PyAudio()\n",
    "\n",
    "# open stream\n",
    "playfreq = int(len(audio) / bdepth / seconds)\n",
    "print(\"Playing {}s audio at {} Hz...\".format(seconds, playfreq))\n",
    "\n",
    "stream = p.open(format=pyaudio.get_format_from_width(2, unsigned=False),\n",
    "                channels=1,\n",
    "                rate=playfreq,\n",
    "                output=True)\n",
    "\n",
    "# write to stream\n",
    "stream.write(audio)"
   ]
  }
 ],
 "metadata": {
  "kernelspec": {
   "display_name": "Python 3",
   "language": "python",
   "name": "python3"
  }
 },
 "nbformat": 4,
 "nbformat_minor": 2
}
